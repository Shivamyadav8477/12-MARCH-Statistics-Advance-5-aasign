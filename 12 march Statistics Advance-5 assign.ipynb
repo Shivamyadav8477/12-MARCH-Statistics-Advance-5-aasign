{
 "cells": [
  {
   "cell_type": "code",
   "execution_count": null,
   "id": "bbe9c994-1ae1-4ce6-a6b9-8073a1ac52e1",
   "metadata": {},
   "outputs": [],
   "source": [
    "Q1. Calculate the 95% confidence interval for a sample of data with a mean of 50 and a standard deviation\n",
    "of 5 using Python. Interpret the results."
   ]
  },
  {
   "cell_type": "code",
   "execution_count": null,
   "id": "2cd5521b-d3d8-4222-b7a4-3a165a95d62b",
   "metadata": {},
   "outputs": [],
   "source": [
    "To calculate the 95% confidence interval for a sample of data with a mean of 50 and a standard deviation of 5 using Python, you can use the scipy.stats library, which provides functions for statistical calculations. Specifically, you can use the t.interval function to calculate the confidence interval. Here's how you can do it:"
   ]
  },
  {
   "cell_type": "code",
   "execution_count": 1,
   "id": "1244a54d-8a36-4b92-a5e7-6d2cec35e01d",
   "metadata": {},
   "outputs": [
    {
     "name": "stdout",
     "output_type": "stream",
     "text": [
      "95% Confidence Interval: (48.1329693162095, 51.8670306837905)\n"
     ]
    }
   ],
   "source": [
    "import scipy.stats as stats\n",
    "\n",
    "# Sample data\n",
    "sample_mean = 50\n",
    "sample_std = 5\n",
    "sample_size = 30  # You need to provide the sample size\n",
    "\n",
    "# Calculate the standard error (standard deviation of the sample mean)\n",
    "standard_error = sample_std / (sample_size ** 0.5)\n",
    "\n",
    "# Set the desired confidence level\n",
    "confidence_level = 0.95\n",
    "\n",
    "# Calculate the degrees of freedom\n",
    "degrees_of_freedom = sample_size - 1\n",
    "\n",
    "# Calculate the confidence interval\n",
    "confidence_interval = stats.t.interval(confidence_level, degrees_of_freedom, loc=sample_mean, scale=standard_error)\n",
    "\n",
    "# Print the confidence interval\n",
    "print(\"95% Confidence Interval:\", confidence_interval)\n"
   ]
  },
  {
   "cell_type": "code",
   "execution_count": null,
   "id": "7afdadc1-5b25-4fdf-9920-a5e8c52103cb",
   "metadata": {},
   "outputs": [],
   "source": [
    "In this code:\n",
    "\n",
    "sample_mean is the mean of your sample (50).\n",
    "sample_std is the standard deviation of your sample (5).\n",
    "sample_size is the size of your sample. You need to provide this value.\n",
    "Make sure to replace sample_size with the actual sample size you have.\n",
    "\n",
    "Interpretation of the results:\n",
    "\n",
    "The confidence interval represents a range of values within which we are 95% confident that the true population mean falls based on the sample data.\n",
    "The result will be a tuple containing the lower and upper bounds of the confidence interval.\n",
    "For example, if the output is: \"95% Confidence Interval: (48.482..., 51.517...)\", it means that we are 95% confident that the true population mean falls within the range of approximately 48.482 to 51.517 based on the sample data.\n",
    "\n",
    "\n",
    "\n",
    "\n"
   ]
  },
  {
   "cell_type": "code",
   "execution_count": null,
   "id": "e21e0be7-28fc-4b07-a78c-759152031945",
   "metadata": {},
   "outputs": [],
   "source": [
    "Q3. Use Python to calculate the chi-square statistic and p-value for a contingency table with the following\n",
    "data:\n",
    "    Group A  Group B\n",
    "\n",
    "Outcome 1 20 15\n",
    "Outcome 2 10 25\n",
    "Outcome 3 15 20"
   ]
  },
  {
   "cell_type": "code",
   "execution_count": null,
   "id": "a8244140-1558-4393-a39e-418eaeea59bb",
   "metadata": {},
   "outputs": [],
   "source": [
    "To calculate the chi-square statistic and p-value for a contingency table with the given data using Python, you can use the scipy.stats library, specifically the chi2_contingency function. Here's how you can do it:\n",
    "\n",
    "python\n"
   ]
  },
  {
   "cell_type": "code",
   "execution_count": 2,
   "id": "82f0e003-4b01-4a64-ace4-0de47ee02dd9",
   "metadata": {},
   "outputs": [
    {
     "name": "stdout",
     "output_type": "stream",
     "text": [
      "Chi-square Statistic: 5.833333333333334\n",
      "P-Value: 0.05411376622282158\n"
     ]
    }
   ],
   "source": [
    "import scipy.stats as stats\n",
    "\n",
    "# Create the contingency table\n",
    "observed = [[20, 15],\n",
    "            [10, 25],\n",
    "            [15, 20]]\n",
    "\n",
    "# Perform the chi-square test\n",
    "chi2, p, _, _ = stats.chi2_contingency(observed)\n",
    "\n",
    "# Print the chi-square statistic and p-value\n",
    "print(\"Chi-square Statistic:\", chi2)\n",
    "print(\"P-Value:\", p)\n"
   ]
  },
  {
   "cell_type": "code",
   "execution_count": null,
   "id": "6076d852-6257-43ba-b0e3-f03633e69a63",
   "metadata": {},
   "outputs": [],
   "source": [
    "In this code:\n",
    "\n",
    "observed is the contingency table with the observed frequencies for each combination of groups and outcomes.\n",
    "stats.chi2_contingency(observed) calculates the chi-square statistic, p-value, and other statistics for the contingency table.\n",
    "The chi2 variable will contain the chi-square statistic, and the p variable will contain the p-value.\n",
    "\n",
    "Interpretation of the results:\n",
    "\n",
    "The chi-square statistic measures the association between the groups and outcomes in the contingency table.\n",
    "The p-value tests the null hypothesis that there is no association between the groups and outcomes. A small p-value (typically less than 0.05) suggests that there is a significant association.\n",
    "You can interpret the results based on the chi-square statistic and p-value in the context of your analysis.\n",
    "\n",
    "\n",
    "\n",
    "\n",
    "\n"
   ]
  },
  {
   "cell_type": "code",
   "execution_count": null,
   "id": "56e9e4bc-98ad-4664-a49c-24d7b01f72f0",
   "metadata": {},
   "outputs": [],
   "source": [
    "Q4. A study of the prevalence of smoking in a population of 500 individuals found that 60 individuals\n",
    "smoked. Use Python to calculate the 95% confidence interval for the true proportion of individuals in the\n",
    "population who smoke."
   ]
  },
  {
   "cell_type": "code",
   "execution_count": null,
   "id": "3a801302-7564-4740-be3b-d7185ce4cc16",
   "metadata": {},
   "outputs": [],
   "source": [
    "To calculate the 95% confidence interval for the true proportion of individuals in the population who smoke using Python, you can use the formula for a confidence interval for a population proportion. Here's how you can do it:"
   ]
  },
  {
   "cell_type": "code",
   "execution_count": 3,
   "id": "7955ff32-4bc3-4e9c-810d-d6f917209e0a",
   "metadata": {},
   "outputs": [
    {
     "name": "stdout",
     "output_type": "stream",
     "text": [
      "95% Confidence Interval: (0.09151638887130707, 0.1484836111286929)\n"
     ]
    }
   ],
   "source": [
    "import scipy.stats as stats\n",
    "\n",
    "# Sample size\n",
    "n = 500\n",
    "\n",
    "# Number of individuals who smoke in the sample\n",
    "x = 60\n",
    "\n",
    "# Sample proportion\n",
    "sample_proportion = x / n\n",
    "\n",
    "# Set the desired confidence level\n",
    "confidence_level = 0.95\n",
    "\n",
    "# Calculate the standard error of the proportion\n",
    "standard_error = (sample_proportion * (1 - sample_proportion) / n) ** 0.5\n",
    "\n",
    "# Calculate the critical value for the confidence interval\n",
    "z = stats.norm.ppf(1 - (1 - confidence_level) / 2)\n",
    "\n",
    "# Calculate the margin of error\n",
    "margin_of_error = z * standard_error\n",
    "\n",
    "# Calculate the confidence interval\n",
    "confidence_interval = (sample_proportion - margin_of_error, sample_proportion + margin_of_error)\n",
    "\n",
    "# Print the confidence interval\n",
    "print(\"95% Confidence Interval:\", confidence_interval)\n"
   ]
  },
  {
   "cell_type": "code",
   "execution_count": null,
   "id": "4e5f1f7c-11d1-465b-badf-7b0e3bc33613",
   "metadata": {},
   "outputs": [],
   "source": [
    "\n",
    "To calculate the 95% confidence interval for the true proportion of individuals in the population who smoke using Python, you can use the formula for a confidence interval for a population proportion. Here's how you can do it:\n",
    "\n",
    "python\n",
    "Copy code\n",
    "import scipy.stats as stats\n",
    "\n",
    "# Sample size\n",
    "n = 500\n",
    "\n",
    "# Number of individuals who smoke in the sample\n",
    "x = 60\n",
    "\n",
    "# Sample proportion\n",
    "sample_proportion = x / n\n",
    "\n",
    "# Set the desired confidence level\n",
    "confidence_level = 0.95\n",
    "\n",
    "# Calculate the standard error of the proportion\n",
    "standard_error = (sample_proportion * (1 - sample_proportion) / n) ** 0.5\n",
    "\n",
    "# Calculate the critical value for the confidence interval\n",
    "z = stats.norm.ppf(1 - (1 - confidence_level) / 2)\n",
    "\n",
    "# Calculate the margin of error\n",
    "margin_of_error = z * standard_error\n",
    "\n",
    "# Calculate the confidence interval\n",
    "confidence_interval = (sample_proportion - margin_of_error, sample_proportion + margin_of_error)\n",
    "\n",
    "# Print the confidence interval\n",
    "print(\"95% Confidence Interval:\", confidence_interval)\n",
    "In this code:\n",
    "\n",
    "n is the sample size (500 individuals).\n",
    "x is the number of individuals who smoke in the sample (60 individuals).\n",
    "sample_proportion is the proportion of individuals who smoke in the sample.\n",
    "confidence_level is the desired confidence level (95% in this case).\n",
    "standard_error is the standard error of the proportion.\n",
    "z is the critical value for the confidence interval based on the normal distribution.\n",
    "margin_of_error is the margin of error for the confidence interval.\n",
    "confidence_interval is the resulting 95% confidence interval.\n",
    "The stats.norm.ppf() function is used to find the critical value based on the standard normal distribution.\n",
    "\n",
    "Interpretation of the results:\n",
    "\n",
    "The confidence interval represents a range of values within which we are 95% confident that the true population proportion of individuals who smoke falls based on the sample data.\n",
    "The result will be a tuple containing the lower and upper bounds of the confidence interval.\n",
    "\n",
    "\n",
    "\n",
    "\n"
   ]
  },
  {
   "cell_type": "code",
   "execution_count": null,
   "id": "7b04d674-9e8b-4910-8432-219f29348a13",
   "metadata": {},
   "outputs": [],
   "source": [
    "Q5. Calculate the 90% confidence interval for a sample of data with a mean of 75 and a standard deviation\n",
    "of 12 using Python. Interpret the results."
   ]
  },
  {
   "cell_type": "code",
   "execution_count": null,
   "id": "c15cd69e-db76-42a8-8d2b-b4ced54ca118",
   "metadata": {},
   "outputs": [],
   "source": [
    "To calculate the 90% confidence interval for a sample of data with a mean of 75 and a standard deviation of 12 using Python, you can use the scipy.stats library. Specifically, you can use the t.interval function. Here's how you can do it:"
   ]
  },
  {
   "cell_type": "code",
   "execution_count": 4,
   "id": "6efefccb-018b-47c6-b42a-9850b31a21b0",
   "metadata": {},
   "outputs": [
    {
     "name": "stdout",
     "output_type": "stream",
     "text": [
      "90% Confidence Interval: (72.15479878877537, 77.84520121122463)\n"
     ]
    }
   ],
   "source": [
    "import scipy.stats as stats\n",
    "\n",
    "# Sample data\n",
    "sample_mean = 75\n",
    "sample_std = 12\n",
    "sample_size = 50  # You need to provide the sample size\n",
    "\n",
    "# Calculate the standard error (standard deviation of the sample mean)\n",
    "standard_error = sample_std / (sample_size ** 0.5)\n",
    "\n",
    "# Set the desired confidence level\n",
    "confidence_level = 0.90\n",
    "\n",
    "# Calculate the degrees of freedom\n",
    "degrees_of_freedom = sample_size - 1\n",
    "\n",
    "# Calculate the confidence interval\n",
    "confidence_interval = stats.t.interval(confidence_level, degrees_of_freedom, loc=sample_mean, scale=standard_error)\n",
    "\n",
    "# Print the confidence interval\n",
    "print(\"90% Confidence Interval:\", confidence_interval)\n"
   ]
  },
  {
   "cell_type": "code",
   "execution_count": null,
   "id": "c11f22b6-3ccc-40f7-869b-4eb5075ea439",
   "metadata": {},
   "outputs": [],
   "source": [
    "n this code:\n",
    "\n",
    "sample_mean is the mean of your sample (75).\n",
    "sample_std is the standard deviation of your sample (12).\n",
    "sample_size is the size of your sample. You need to provide this value.\n",
    "Make sure to replace sample_size with the actual sample size you have.\n",
    "\n",
    "Interpretation of the results:\n",
    "\n",
    "The confidence interval represents a range of values within which we are 90% confident that the true population mean falls based on the sample data.\n",
    "The result will be a tuple containing the lower and upper bounds of the confidence interval.\n",
    "For example, if the output is: \"90% Confidence Interval: (72.522..., 77.477...)\", it means that we are 90% confident that the true population mean falls within the range of approximately 72.522 to 77.477 based on the sample data."
   ]
  },
  {
   "cell_type": "code",
   "execution_count": null,
   "id": "37fbf299-cd64-49b6-b138-d8191556a968",
   "metadata": {},
   "outputs": [],
   "source": [
    "Q6. Use Python to plot the chi-square distribution with 10 degrees of freedom. Label the axes and shade the\n",
    "area corresponding to a chi-square statistic of 15."
   ]
  },
  {
   "cell_type": "code",
   "execution_count": null,
   "id": "96fc2b2c-c87e-4b99-bda1-fea4c0d45ed8",
   "metadata": {},
   "outputs": [],
   "source": [
    "To plot the chi-square distribution with 10 degrees of freedom, label the axes, and shade the area corresponding to a chi-square statistic of 15, you can use Python's matplotlib library. Here's a code example to achieve this:"
   ]
  },
  {
   "cell_type": "code",
   "execution_count": 5,
   "id": "6c33f354-6e0e-4474-8ea0-3414b342dea3",
   "metadata": {},
   "outputs": [
    {
     "data": {
      "image/png": "[encoded data removed]",
      "text/plain": [
       "<Figure size 800x500 with 1 Axes>"
      ]
     },
     "metadata": {},
     "output_type": "display_data"
    }
   ],
   "source": [
    "import numpy as np\n",
    "import matplotlib.pyplot as plt\n",
    "import scipy.stats as stats\n",
    "\n",
    "# Define the degrees of freedom\n",
    "df = 10\n",
    "\n",
    "# Generate values for the chi-square distribution\n",
    "x = np.linspace(0, 30, 400)  # Adjust the range as needed\n",
    "\n",
    "# Calculate the chi-square probability density function (PDF) for the given degrees of freedom\n",
    "pdf = stats.chi2.pdf(x, df)\n",
    "\n",
    "# Create a plot\n",
    "plt.figure(figsize=(8, 5))\n",
    "plt.plot(x, pdf, label=f'Chi-Square (df={df})', color='blue')\n",
    "\n",
    "# Shade the area corresponding to a chi-square statistic of 15\n",
    "x_fill = np.linspace(0, 15, 400)\n",
    "pdf_fill = stats.chi2.pdf(x_fill, df)\n",
    "plt.fill_between(x_fill, pdf_fill, color='gray', alpha=0.5, label='Shaded Area')\n",
    "\n",
    "# Label the axes\n",
    "plt.xlabel('Chi-Square Statistic')\n",
    "plt.ylabel('Probability Density')\n",
    "plt.title('Chi-Square Distribution with 10 Degrees of Freedom')\n",
    "\n",
    "# Add a legend\n",
    "plt.legend()\n",
    "\n",
    "# Show the plot\n",
    "plt.grid(True)\n",
    "plt.show()\n"
   ]
  },
  {
   "cell_type": "code",
   "execution_count": null,
   "id": "cd0efaaf-d07f-4d98-99db-e916a03f832b",
   "metadata": {},
   "outputs": [],
   "source": [
    "In this code:\n",
    "\n",
    "We specify the degrees of freedom as df = 10.\n",
    "We generate values for the chi-square distribution using np.linspace to create a range of x-values.\n",
    "We calculate the chi-square probability density function (PDF) for the given degrees of freedom using stats.chi2.pdf.\n",
    "We create a plot, label the axes, and add a title.\n",
    "We shade the area under the curve for the chi-square statistic of 15 using plt.fill_between.\n",
    "Finally, we display the plot using plt.show().\n",
    "This code will produce a plot of the chi-square distribution with labeled axes and the shaded area corresponding to a chi-square statistic of 15."
   ]
  },
  {
   "cell_type": "code",
   "execution_count": null,
   "id": "b70a68d5-3322-4d19-aba0-55c6ccc58724",
   "metadata": {},
   "outputs": [],
   "source": [
    "Q7. A random sample of 1000 people was asked if they preferred Coke or Pepsi. Of the sample, 520\n",
    "preferred Coke. Calculate a 99% confidence interval for the true proportion of people in the population who\n",
    "prefer Coke."
   ]
  },
  {
   "cell_type": "code",
   "execution_count": null,
   "id": "6494be5b-e83b-4329-b931-6f0479e2c248",
   "metadata": {},
   "outputs": [],
   "source": [
    "To calculate the 99% confidence interval for the true proportion of people in the population who prefer Coke based on a random sample, you can use the formula for a confidence interval for a population proportion. Here's how you can do it in Python:"
   ]
  },
  {
   "cell_type": "code",
   "execution_count": 6,
   "id": "de4b2699-4927-4155-8cb2-d84ef402a86b",
   "metadata": {},
   "outputs": [
    {
     "name": "stdout",
     "output_type": "stream",
     "text": [
      "99% Confidence Interval: (0.4793051576779699, 0.5606948423220302)\n"
     ]
    }
   ],
   "source": [
    "import scipy.stats as stats\n",
    "\n",
    "# Sample size\n",
    "n = 1000\n",
    "\n",
    "# Number of people who prefer Coke in the sample\n",
    "x = 520\n",
    "\n",
    "# Sample proportion\n",
    "sample_proportion = x / n\n",
    "\n",
    "# Set the desired confidence level\n",
    "confidence_level = 0.99\n",
    "\n",
    "# Calculate the standard error of the proportion\n",
    "standard_error = (sample_proportion * (1 - sample_proportion) / n) ** 0.5\n",
    "\n",
    "# Calculate the critical value for the confidence interval\n",
    "z = stats.norm.ppf(1 - (1 - confidence_level) / 2)\n",
    "\n",
    "# Calculate the margin of error\n",
    "margin_of_error = z * standard_error\n",
    "\n",
    "# Calculate the confidence interval\n",
    "confidence_interval = (sample_proportion - margin_of_error, sample_proportion + margin_of_error)\n",
    "\n",
    "# Print the confidence interval\n",
    "print(\"99% Confidence Interval:\", confidence_interval)\n"
   ]
  },
  {
   "cell_type": "code",
   "execution_count": null,
   "id": "2fa354e9-b70a-42a0-acb8-d89d91886073",
   "metadata": {},
   "outputs": [],
   "source": [
    "In this code:\n",
    "\n",
    "n is the sample size (1000 individuals).\n",
    "x is the number of people who prefer Coke in the sample (520 individuals).\n",
    "sample_proportion is the proportion of people who prefer Coke in the sample.\n",
    "confidence_level is the desired confidence level (99% in this case).\n",
    "standard_error is the standard error of the proportion.\n",
    "z is the critical value for the confidence interval based on the normal distribution.\n",
    "margin_of_error is the margin of error for the confidence interval.\n",
    "confidence_interval is the resulting 99% confidence interval.\n",
    "The stats.norm.ppf() function is used to find the critical value based on the standard normal distribution.\n",
    "\n",
    "Interpretation of the results:\n",
    "\n",
    "The confidence interval represents a range of values within which we are 99% confident that the true population proportion of people who prefer Coke falls based on the sample data.\n",
    "The result will be a tuple containing the lower and upper bounds of the confidence interval.\n",
    "\n",
    "\n",
    "\n"
   ]
  },
  {
   "cell_type": "code",
   "execution_count": null,
   "id": "7f99d22f-357e-4004-9110-f2ef4775fe6d",
   "metadata": {},
   "outputs": [],
   "source": [
    "Q8. A researcher hypothesizes that a coin is biased towards tails. They flip the coin 100 times and observe\n",
    "45 tails. Conduct a chi-square goodness of fit test to determine if the observed frequencies match the\n",
    "expected frequencies of a fair coin. Use a significance level of 0.05."
   ]
  },
  {
   "cell_type": "code",
   "execution_count": null,
   "id": "b4b13486-640d-4be4-8695-c23050ae67fc",
   "metadata": {},
   "outputs": [],
   "source": [
    "To conduct a chi-square goodness of fit test to determine if the observed frequencies match the expected frequencies of a fair coin, you can use Python with the scipy.stats library. Here's how to do it:"
   ]
  },
  {
   "cell_type": "code",
   "execution_count": 7,
   "id": "8ddde917-f5b9-4c4b-822d-fe83b7c3c5b6",
   "metadata": {},
   "outputs": [
    {
     "name": "stdout",
     "output_type": "stream",
     "text": [
      "Chi-square Statistic: 1.0\n",
      "P-Value: 0.31731050786291115\n",
      "Fail to reject the null hypothesis: The coin is not biased.\n"
     ]
    }
   ],
   "source": [
    "import scipy.stats as stats\n",
    "\n",
    "# Observed frequencies\n",
    "observed_tails = 45\n",
    "observed_heads = 100 - observed_tails  # Total flips minus observed tails\n",
    "\n",
    "# Expected frequencies for a fair coin\n",
    "expected_tails = 50  # For a fair coin, 50% probability of tails\n",
    "expected_heads = 50  # For a fair coin, 50% probability of heads\n",
    "\n",
    "# Create observed and expected frequency arrays\n",
    "observed_frequencies = [observed_heads, observed_tails]\n",
    "expected_frequencies = [expected_heads, expected_tails]\n",
    "\n",
    "# Perform the chi-square goodness of fit test\n",
    "chi2, p = stats.chisquare(f_obs=observed_frequencies, f_exp=expected_frequencies)\n",
    "\n",
    "# Significance level\n",
    "alpha = 0.05\n",
    "\n",
    "# Print the chi-square statistic and p-value\n",
    "print(\"Chi-square Statistic:\", chi2)\n",
    "print(\"P-Value:\", p)\n",
    "\n",
    "# Determine whether to reject the null hypothesis\n",
    "if p < alpha:\n",
    "    print(\"Reject the null hypothesis: The coin is biased.\")\n",
    "else:\n",
    "    print(\"Fail to reject the null hypothesis: The coin is not biased.\")\n"
   ]
  },
  {
   "cell_type": "code",
   "execution_count": null,
   "id": "32adb2e1-56fc-4769-8c36-5be912d2fa0c",
   "metadata": {},
   "outputs": [],
   "source": [
    "In this code:\n",
    "\n",
    "observed_tails is the number of tails observed in the 100 coin flips.\n",
    "observed_heads is calculated as the total number of flips (100) minus the observed tails.\n",
    "expected_tails and expected_heads represent the expected frequencies for a fair coin.\n",
    "The observed and expected frequency arrays are created.\n",
    "The stats.chisquare() function performs the chi-square goodness of fit test using the observed and expected frequencies.\n",
    "chi2 is the chi-square statistic, and p is the p-value.\n",
    "The null hypothesis (\n",
    "�\n",
    "0\n",
    "H \n",
    "0\n",
    "​\n",
    " ) is that the coin is fair, meaning the observed frequencies match the expected frequencies for a fair coin. The alternative hypothesis (\n",
    "�\n",
    "�\n",
    "H \n",
    "a\n",
    "​\n",
    " ) is that the coin is biased.\n",
    "\n",
    "The code prints the chi-square statistic, p-value, and a decision on whether to reject the null hypothesis based on the significance level (0.05). If the p-value is less than 0.05, the null hypothesis is rejected, indicating that the coin is biased. If the p-value is greater than or equal to 0.05, the null hypothesis is not rejected, suggesting that the coin is not biased."
   ]
  },
  {
   "cell_type": "code",
   "execution_count": null,
   "id": "ff40b30e-6073-4583-8f22-1eed1bf049e1",
   "metadata": {},
   "outputs": [],
   "source": [
    "Q9. A study was conducted to determine if there is an association between smoking status (smoker or\n",
    "non-smoker) and lung cancer diagnosis (yes or no). The results are shown in the contingency table below.\n",
    "Conduct a chi-square test for independence to determine if there is a significant association between\n",
    "smoking status and lung cancer diagnosis.\n",
    "\n",
    "         Lung Cancer: Yes  Lung Cancer: No\n",
    "\n",
    "Smoker       60                 140\n",
    "Non-smoker   30                 170\n",
    "\n",
    "Use a significance level of 0.05.\n"
   ]
  },
  {
   "cell_type": "code",
   "execution_count": null,
   "id": "cb48601f-c0f6-4550-8fc6-88357ad71b7d",
   "metadata": {},
   "outputs": [],
   "source": [
    "To conduct a chi-square test for independence to determine if there is a significant association between smoking status and lung cancer diagnosis, you can use Python with the scipy.stats library. Here's how to do it:"
   ]
  },
  {
   "cell_type": "code",
   "execution_count": 8,
   "id": "d2859abf-6eea-489f-b673-465304aee467",
   "metadata": {},
   "outputs": [
    {
     "name": "stdout",
     "output_type": "stream",
     "text": [
      "Chi-square Statistic: 12.057347670250895\n",
      "P-Value: 0.0005158863863703744\n",
      "Reject the null hypothesis: There is a significant association between smoking status and lung cancer diagnosis.\n"
     ]
    }
   ],
   "source": [
    "import scipy.stats as stats\n",
    "\n",
    "# Create the contingency table\n",
    "observed = [[60, 140],\n",
    "            [30, 170]]\n",
    "\n",
    "# Perform the chi-square test for independence\n",
    "chi2, p, _, _ = stats.chi2_contingency(observed)\n",
    "\n",
    "# Significance level\n",
    "alpha = 0.05\n",
    "\n",
    "# Print the chi-square statistic and p-value\n",
    "print(\"Chi-square Statistic:\", chi2)\n",
    "print(\"P-Value:\", p)\n",
    "\n",
    "# Determine whether to reject the null hypothesis\n",
    "if p < alpha:\n",
    "    print(\"Reject the null hypothesis: There is a significant association between smoking status and lung cancer diagnosis.\")\n",
    "else:\n",
    "    print(\"Fail to reject the null hypothesis: There is no significant association between smoking status and lung cancer diagnosis.\")\n"
   ]
  },
  {
   "cell_type": "code",
   "execution_count": null,
   "id": "1c122e01-b204-436c-8d83-bf1624a652ea",
   "metadata": {},
   "outputs": [],
   "source": [
    "In this code:\n",
    "\n",
    "observed is the contingency table with the observed frequencies for the combinations of smoking status (smoker or non-smoker) and lung cancer diagnosis (yes or no).\n",
    "The stats.chi2_contingency() function performs the chi-square test for independence using the observed frequencies.\n",
    "chi2 is the chi-square statistic, and p is the p-value.\n",
    "The null hypothesis (\n",
    "�\n",
    "0\n",
    "H \n",
    "0\n",
    "​\n",
    " ) is that smoking status and lung cancer diagnosis are independent, meaning there is no association between them. The alternative hypothesis (\n",
    "�\n",
    "�\n",
    "H \n",
    "a\n",
    "​\n",
    " ) is that there is a significant association between smoking status and lung cancer diagnosis.\n",
    "\n",
    "The code prints the chi-square statistic, p-value, and a decision on whether to reject the null hypothesis based on the significance level (0.05). If the p-value is less than 0.05, the null hypothesis is rejected, indicating a significant association. If the p-value is greater than or equal to 0.05, the null hypothesis is not rejected, suggesting no significant association."
   ]
  },
  {
   "cell_type": "code",
   "execution_count": null,
   "id": "c1d0711a-48d8-4846-97cc-eda08ff8b0f3",
   "metadata": {},
   "outputs": [],
   "source": [
    "Q10. A study was conducted to determine if the proportion of people who prefer milk chocolate, dark\n",
    "chocolate, or white chocolate is different in the U.S. versus the U.K. A random sample of 500 people from\n",
    "the U.S. and a random sample of 500 people from the U.K. were surveyed. The results are shown in the\n",
    "contingency table below. Conduct a chi-square test for independence to determine if there is a significant\n",
    "association between chocolate preference and country of origin.\n",
    "\n",
    "            Milk Chocolate       Dark Chocolate     White Chocolate\n",
    "\n",
    "U.S. (n=500)     200                   150                 150\n",
    "U.K. (n=500)     225                    175                100\n",
    "\n",
    "Use a significance level of 0.01."
   ]
  },
  {
   "cell_type": "code",
   "execution_count": null,
   "id": "d60f8b6d-1de2-49ca-b1e2-c3e4e0c41e4c",
   "metadata": {},
   "outputs": [],
   "source": []
  },
  {
   "cell_type": "code",
   "execution_count": null,
   "id": "bcc819a7-ec60-4174-9963-6dfb95e980ea",
   "metadata": {},
   "outputs": [],
   "source": []
  },
  {
   "cell_type": "code",
   "execution_count": null,
   "id": "44f9c67d-1054-45ea-9590-a612757b4fd5",
   "metadata": {},
   "outputs": [],
   "source": []
  },
  {
   "cell_type": "code",
   "execution_count": null,
   "id": "fbb0f4e7-a44d-464b-9fa5-4954f5d80b3f",
   "metadata": {},
   "outputs": [],
   "source": []
  }
 ],
 "metadata": {
  "kernelspec": {
   "display_name": "Python 3 (ipykernel)",
   "language": "python",
   "name": "python3"
  },
  "language_info": {
   "codemirror_mode": {
    "name": "ipython",
    "version": 3
   },
   "file_extension": ".py",
   "mimetype": "text/x-python",
   "name": "python",
   "nbconvert_exporter": "python",
   "pygments_lexer": "ipython3",
   "version": "3.10.6"
  }
 },
 "nbformat": 4,
 "nbformat_minor": 5
}
